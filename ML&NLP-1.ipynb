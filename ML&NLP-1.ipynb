{
 "cells": [
  {
   "cell_type": "markdown",
   "id": "6dbb72e4-7bd9-427f-8db8-68810ae24663",
   "metadata": {},
   "source": [
    "### Use mtcars data set(built-in in R)\n",
    "\n",
    "a. Run linear regression of mpg on hp, explain the coefficient(in real life terms, with the unit of variable) and goodness of fit.\n",
    "\n",
    "b. Run a polynomials regression of mpg on hp, up to 6 degree, use the rank matrix to select the model you think is the best in terms of bias-variance trade-off, justify your answers."
   ]
  },
  {
   "cell_type": "code",
   "execution_count": 1,
   "id": "12f3e18a-e64c-4ad1-80f2-4aad74cd2e3f",
   "metadata": {},
   "outputs": [
    {
     "data": {
      "text/plain": [
       "\n",
       "Call:\n",
       "lm(formula = mtcars$mpg ~ mtcars$hp, data = mtcars)\n",
       "\n",
       "Residuals:\n",
       "    Min      1Q  Median      3Q     Max \n",
       "-5.7121 -2.1122 -0.8854  1.5819  8.2360 \n",
       "\n",
       "Coefficients:\n",
       "            Estimate Std. Error t value Pr(>|t|)    \n",
       "(Intercept) 30.09886    1.63392  18.421  < 2e-16 ***\n",
       "mtcars$hp   -0.06823    0.01012  -6.742 1.79e-07 ***\n",
       "---\n",
       "Signif. codes:  0 '***' 0.001 '**' 0.01 '*' 0.05 '.' 0.1 ' ' 1\n",
       "\n",
       "Residual standard error: 3.863 on 30 degrees of freedom\n",
       "Multiple R-squared:  0.6024,\tAdjusted R-squared:  0.5892 \n",
       "F-statistic: 45.46 on 1 and 30 DF,  p-value: 1.788e-07\n"
      ]
     },
     "metadata": {},
     "output_type": "display_data"
    }
   ],
   "source": [
    " #head(mtcars)\n",
    " #?mtcars\n",
    " fit= lm(mtcars$mpg~mtcars$hp,data = mtcars)\n",
    " summary(fit)"
   ]
  },
  {
   "cell_type": "markdown",
   "id": "e715bfdf-e49d-4481-b47e-7999a8f6a440",
   "metadata": {},
   "source": [
    "From the model, we can say that coefficient is statistically significant enough to explain the relationship between mileage(mpg) and power of engine(hp).\n",
    " \n",
    "Since the F-statistic is much larger than 1 and has a correspondingly small p-value we can confirm the likelihood that the null hypothesis is false and that there is a statistically significant relationship between mpg and horsepower.\n",
    " \n",
    "The linear equation for the model can be written as:\n",
    "\n",
    "#### mpg = 30.09 + (-0.068) * hp\n",
    "\n",
    " Looking at the sign of the regression coefficient of horsepower,we see that the relationship between mpg and horsepower is negative.\n",
    " In simple language, with increase in one unit of horsepower for a engine, the mileage decreases by 0.068. In other words, The distancein miles an engine/car can take you from one gallon of fuel decreses by 0.068 with one horsepower increase in engine.\n",
    " \n",
    " The goodness of fit, given by R-squared = 0.6024 indicates that 60.24% of the variance of mpg is explained by horsepower. This means that the relationship between mpg and horsepower is strong."
   ]
  },
  {
   "cell_type": "code",
   "execution_count": 2,
   "id": "6469f4b4-d5e1-4262-a931-d6efe039f5fa",
   "metadata": {},
   "outputs": [
    {
     "data": {
      "text/plain": [
       "\n",
       "Call:\n",
       "lm(formula = mtcars$mpg ~ mtcars$hp, data = mtcars)\n",
       "\n",
       "Residuals:\n",
       "    Min      1Q  Median      3Q     Max \n",
       "-5.7121 -2.1122 -0.8854  1.5819  8.2360 \n",
       "\n",
       "Coefficients:\n",
       "            Estimate Std. Error t value Pr(>|t|)    \n",
       "(Intercept) 30.09886    1.63392  18.421  < 2e-16 ***\n",
       "mtcars$hp   -0.06823    0.01012  -6.742 1.79e-07 ***\n",
       "---\n",
       "Signif. codes:  0 '***' 0.001 '**' 0.01 '*' 0.05 '.' 0.1 ' ' 1\n",
       "\n",
       "Residual standard error: 3.863 on 30 degrees of freedom\n",
       "Multiple R-squared:  0.6024,\tAdjusted R-squared:  0.5892 \n",
       "F-statistic: 45.46 on 1 and 30 DF,  p-value: 1.788e-07\n"
      ]
     },
     "metadata": {},
     "output_type": "display_data"
    }
   ],
   "source": [
    " model_rank = data.frame() #Defining an object to store rank,etc\n",
    " fit= lm(mtcars$mpg~mtcars$hp,data = mtcars) #Degree-1 Regression\n",
    " summary(fit)"
   ]
  },
  {
   "cell_type": "code",
   "execution_count": 3,
   "id": "a1767d28-7e99-4bdb-b647-293c977d3348",
   "metadata": {},
   "outputs": [
    {
     "data": {
      "text/plain": [
       "\n",
       "Call:\n",
       "lm(formula = mtcars$mpg ~ poly(mtcars$hp, 2), data = mtcars)\n",
       "\n",
       "Residuals:\n",
       "    Min      1Q  Median      3Q     Max \n",
       "-4.5512 -1.6027 -0.6977  1.5509  8.7213 \n",
       "\n",
       "Coefficients:\n",
       "                    Estimate Std. Error t value Pr(>|t|)    \n",
       "(Intercept)           20.091      0.544  36.931  < 2e-16 ***\n",
       "poly(mtcars$hp, 2)1  -26.046      3.077  -8.464 2.51e-09 ***\n",
       "poly(mtcars$hp, 2)2   13.155      3.077   4.275 0.000189 ***\n",
       "---\n",
       "Signif. codes:  0 '***' 0.001 '**' 0.01 '*' 0.05 '.' 0.1 ' ' 1\n",
       "\n",
       "Residual standard error: 3.077 on 29 degrees of freedom\n",
       "Multiple R-squared:  0.7561,\tAdjusted R-squared:  0.7393 \n",
       "F-statistic: 44.95 on 2 and 29 DF,  p-value: 1.301e-09\n"
      ]
     },
     "metadata": {},
     "output_type": "display_data"
    }
   ],
   "source": [
    "rsq = summary(fit)$r.squared\n",
    " t=1\n",
    " f=0\n",
    " model_details = c(1,rsq,t,f,(t/1))\n",
    " model_rank = rbind(model_rank,model_details)\n",
    " fit= lm(mtcars$mpg~poly(mtcars$hp,2),data = mtcars) #Degree-2 Regression\n",
    " summary(fit)"
   ]
  },
  {
   "cell_type": "code",
   "execution_count": 4,
   "id": "e233b754-d61e-42d8-9541-a504dd056489",
   "metadata": {},
   "outputs": [
    {
     "name": "stdout",
     "output_type": "stream",
     "text": [
      "\n",
      "Call:\n",
      "lm(formula = mtcars$mpg ~ poly(mtcars$hp, i), data = mtcars)\n",
      "\n",
      "Residuals:\n",
      "    Min      1Q  Median      3Q     Max \n",
      "-4.8605 -1.3972 -0.5736  1.6461  9.0738 \n",
      "\n",
      "Coefficients:\n",
      "                    Estimate Std. Error t value Pr(>|t|)    \n",
      "(Intercept)          20.0906     0.5485  36.625  < 2e-16 ***\n",
      "poly(mtcars$hp, i)1 -26.0456     3.1030  -8.394 3.95e-09 ***\n",
      "poly(mtcars$hp, i)2  13.1546     3.1030   4.239 0.000221 ***\n",
      "poly(mtcars$hp, i)3  -2.2419     3.1030  -0.722 0.475987    \n",
      "---\n",
      "Signif. codes:  0 '***' 0.001 '**' 0.01 '*' 0.05 '.' 0.1 ' ' 1\n",
      "\n",
      "Residual standard error: 3.103 on 28 degrees of freedom\n",
      "Multiple R-squared:  0.7606,\tAdjusted R-squared:  0.7349 \n",
      "F-statistic: 29.65 on 3 and 28 DF,  p-value: 7.769e-09\n",
      "\n",
      "\n",
      "Call:\n",
      "lm(formula = mtcars$mpg ~ poly(mtcars$hp, i), data = mtcars)\n",
      "\n",
      "Residuals:\n",
      "    Min      1Q  Median      3Q     Max \n",
      "-4.8914 -1.3842 -0.5696  1.6120  9.1050 \n",
      "\n",
      "Coefficients:\n",
      "                    Estimate Std. Error t value Pr(>|t|)    \n",
      "(Intercept)          20.0906     0.5585  35.971  < 2e-16 ***\n",
      "poly(mtcars$hp, i)1 -26.0456     3.1595  -8.244 7.51e-09 ***\n",
      "poly(mtcars$hp, i)2  13.1546     3.1595   4.164 0.000287 ***\n",
      "poly(mtcars$hp, i)3  -2.2419     3.1595  -0.710 0.484046    \n",
      "poly(mtcars$hp, i)4   0.2957     3.1595   0.094 0.926132    \n",
      "---\n",
      "Signif. codes:  0 '***' 0.001 '**' 0.01 '*' 0.05 '.' 0.1 ' ' 1\n",
      "\n",
      "Residual standard error: 3.159 on 27 degrees of freedom\n",
      "Multiple R-squared:  0.7607,\tAdjusted R-squared:  0.7252 \n",
      "F-statistic: 21.45 on 4 and 27 DF,  p-value: 4.664e-08\n",
      "\n",
      "\n",
      "Call:\n",
      "lm(formula = mtcars$mpg ~ poly(mtcars$hp, i), data = mtcars)\n",
      "\n",
      "Residuals:\n",
      "    Min      1Q  Median      3Q     Max \n",
      "-4.8467 -1.5842 -0.5438  1.3795  8.9962 \n",
      "\n",
      "Coefficients:\n",
      "                    Estimate Std. Error t value Pr(>|t|)    \n",
      "(Intercept)          20.0906     0.5673  35.417  < 2e-16 ***\n",
      "poly(mtcars$hp, i)1 -26.0456     3.2089  -8.117 1.35e-08 ***\n",
      "poly(mtcars$hp, i)2  13.1546     3.2089   4.099 0.000361 ***\n",
      "poly(mtcars$hp, i)3  -2.2419     3.2089  -0.699 0.490975    \n",
      "poly(mtcars$hp, i)4   0.2957     3.2089   0.092 0.927293    \n",
      "poly(mtcars$hp, i)5  -1.3394     3.2089  -0.417 0.679812    \n",
      "---\n",
      "Signif. codes:  0 '***' 0.001 '**' 0.01 '*' 0.05 '.' 0.1 ' ' 1\n",
      "\n",
      "Residual standard error: 3.209 on 26 degrees of freedom\n",
      "Multiple R-squared:  0.7622,\tAdjusted R-squared:  0.7165 \n",
      "F-statistic: 16.67 on 5 and 26 DF,  p-value: 2.159e-07\n",
      "\n",
      "\n",
      "Call:\n",
      "lm(formula = mtcars$mpg ~ poly(mtcars$hp, i), data = mtcars)\n",
      "\n",
      "Residuals:\n",
      "    Min      1Q  Median      3Q     Max \n",
      "-5.4096 -1.8079 -0.0835  1.2764  9.5980 \n",
      "\n",
      "Coefficients:\n",
      "                    Estimate Std. Error t value Pr(>|t|)    \n",
      "(Intercept)          20.0906     0.5540  36.264  < 2e-16 ***\n",
      "poly(mtcars$hp, i)1 -26.0456     3.1339  -8.311 1.16e-08 ***\n",
      "poly(mtcars$hp, i)2  13.1546     3.1339   4.197 0.000298 ***\n",
      "poly(mtcars$hp, i)3  -2.2419     3.1339  -0.715 0.481015    \n",
      "poly(mtcars$hp, i)4   0.2957     3.1339   0.094 0.925588    \n",
      "poly(mtcars$hp, i)5  -1.3394     3.1339  -0.427 0.672758    \n",
      "poly(mtcars$hp, i)6  -4.7101     3.1339  -1.503 0.145388    \n",
      "---\n",
      "Signif. codes:  0 '***' 0.001 '**' 0.01 '*' 0.05 '.' 0.1 ' ' 1\n",
      "\n",
      "Residual standard error: 3.134 on 25 degrees of freedom\n",
      "Multiple R-squared:  0.7819,\tAdjusted R-squared:  0.7296 \n",
      "F-statistic: 14.94 on 6 and 25 DF,  p-value: 3.365e-07\n",
      "\n"
     ]
    }
   ],
   "source": [
    " rsq = summary(fit)$r.squared\n",
    " t=2\n",
    " f=0\n",
    " model_details = c(2,rsq,t,f,(t/2))\n",
    " model_rank = rbind(model_rank,model_details)\n",
    " for(i in 3:6){\n",
    " fit= lm(mtcars$mpg~poly(mtcars$hp,i),data = mtcars) #Loop for Degree-3 to 6 Regression\n",
    " print(summary(fit))\n",
    " rsq = summary(fit)$r.squared\n",
    " t = table((summary(fit)$coefficients[,4])<0.05)[2]-1\n",
    " f = table((summary(fit)$coefficients[,4])<0.05)[1]\n",
    " model_details = c(i,rsq,t,f,(t/i))\n",
    " model_rank = rbind(model_rank,model_details)\n",
    " }"
   ]
  },
  {
   "cell_type": "code",
   "execution_count": 7,
   "id": "deabe5f0-5c19-425f-818b-e7cfc1c53fbf",
   "metadata": {},
   "outputs": [
    {
     "data": {
      "text/html": [
       "<table class=\"dataframe\">\n",
       "<caption>A data.frame: 6 × 6</caption>\n",
       "<thead>\n",
       "\t<tr><th scope=col>model_order</th><th scope=col>R-Squared</th><th scope=col>Coef_true</th><th scope=col>Coef_false</th><th scope=col>Goodness</th><th scope=col>Rank</th></tr>\n",
       "\t<tr><th scope=col>&lt;dbl&gt;</th><th scope=col>&lt;dbl&gt;</th><th scope=col>&lt;dbl&gt;</th><th scope=col>&lt;dbl&gt;</th><th scope=col>&lt;dbl&gt;</th><th scope=col>&lt;dbl&gt;</th></tr>\n",
       "</thead>\n",
       "<tbody>\n",
       "\t<tr><td>1</td><td>0.6024373</td><td>1</td><td>0</td><td>1.0000000</td><td>1.1674463</td></tr>\n",
       "\t<tr><td>2</td><td>0.7561100</td><td>2</td><td>0</td><td>1.0000000</td><td>1.2536755</td></tr>\n",
       "\t<tr><td>3</td><td>0.7605735</td><td>2</td><td>1</td><td>0.6666667</td><td>1.0113933</td></tr>\n",
       "\t<tr><td>4</td><td>0.7606511</td><td>2</td><td>2</td><td>0.5000000</td><td>0.9102692</td></tr>\n",
       "\t<tr><td>5</td><td>0.7622443</td><td>2</td><td>3</td><td>0.4000000</td><td>0.8608231</td></tr>\n",
       "\t<tr><td>6</td><td>0.7819456</td><td>2</td><td>4</td><td>0.3333333</td><td>0.8500295</td></tr>\n",
       "</tbody>\n",
       "</table>\n"
      ],
      "text/latex": [
       "A data.frame: 6 × 6\n",
       "\\begin{tabular}{llllll}\n",
       " model\\_order & R-Squared & Coef\\_true & Coef\\_false & Goodness & Rank\\\\\n",
       " <dbl> & <dbl> & <dbl> & <dbl> & <dbl> & <dbl>\\\\\n",
       "\\hline\n",
       "\t 1 & 0.6024373 & 1 & 0 & 1.0000000 & 1.1674463\\\\\n",
       "\t 2 & 0.7561100 & 2 & 0 & 1.0000000 & 1.2536755\\\\\n",
       "\t 3 & 0.7605735 & 2 & 1 & 0.6666667 & 1.0113933\\\\\n",
       "\t 4 & 0.7606511 & 2 & 2 & 0.5000000 & 0.9102692\\\\\n",
       "\t 5 & 0.7622443 & 2 & 3 & 0.4000000 & 0.8608231\\\\\n",
       "\t 6 & 0.7819456 & 2 & 4 & 0.3333333 & 0.8500295\\\\\n",
       "\\end{tabular}\n"
      ],
      "text/markdown": [
       "\n",
       "A data.frame: 6 × 6\n",
       "\n",
       "| model_order &lt;dbl&gt; | R-Squared &lt;dbl&gt; | Coef_true &lt;dbl&gt; | Coef_false &lt;dbl&gt; | Goodness &lt;dbl&gt; | Rank &lt;dbl&gt; |\n",
       "|---|---|---|---|---|---|\n",
       "| 1 | 0.6024373 | 1 | 0 | 1.0000000 | 1.1674463 |\n",
       "| 2 | 0.7561100 | 2 | 0 | 1.0000000 | 1.2536755 |\n",
       "| 3 | 0.7605735 | 2 | 1 | 0.6666667 | 1.0113933 |\n",
       "| 4 | 0.7606511 | 2 | 2 | 0.5000000 | 0.9102692 |\n",
       "| 5 | 0.7622443 | 2 | 3 | 0.4000000 | 0.8608231 |\n",
       "| 6 | 0.7819456 | 2 | 4 | 0.3333333 | 0.8500295 |\n",
       "\n"
      ],
      "text/plain": [
       "  model_order R-Squared Coef_true Coef_false Goodness  Rank     \n",
       "1 1           0.6024373 1         0          1.0000000 1.1674463\n",
       "2 2           0.7561100 2         0          1.0000000 1.2536755\n",
       "3 3           0.7605735 2         1          0.6666667 1.0113933\n",
       "4 4           0.7606511 2         2          0.5000000 0.9102692\n",
       "5 5           0.7622443 2         3          0.4000000 0.8608231\n",
       "6 6           0.7819456 2         4          0.3333333 0.8500295"
      ]
     },
     "metadata": {},
     "output_type": "display_data"
    }
   ],
   "source": [
    "colnames(model_rank) = c(\"model_order\",\"R-Squared\",\"Coef_true\",\"Coef_false\",\"Goodness\")\n",
    "Rank = sqrt((model_rank[,2])^2 + (model_rank[,5])^2)\n",
    "model_rank = cbind(model_rank,Rank)\n",
    "model_rank #Final table to observe Rank for each model"
   ]
  },
  {
   "cell_type": "markdown",
   "id": "943ca809-d456-47d3-96df-39412425ecbb",
   "metadata": {},
   "source": [
    " The best model for our data should be Polynomial Regression with Degree-2. It has the highest value of Rank. The rank has been calculated as:\n",
    " \n",
    " #### Rank = sqrt [(R-Squared)ˆ2 + (Goodness)ˆ2]\n",
    " \n",
    " where, Goodness = Number of statistically significant coefficients in a model/ Polynomial Order The bias is an error from erroneous assumptions in the learning algorithm. High bias (overly simple) can cause an algorithm to miss the relevant relations between features and target outputs (underfitting).\n",
    " \n",
    " The variance is an error from sensitivity to small fluctuations in the training set. High variance (overly complex) can cause an algorithm to model the random noise in the training data, rather than the intended outputs (overfitting). A model can be overfit if it is too specific to the data presented and offers little explanatory power for any new data that might come into the system. The more complex your model is(higher degree of polynomial in this case), the tighter it’s going to fit to your data, but we run the risk of some of the coefficients being less statistically valid as the model becomes more complex.\n",
    " \n",
    " The result table shows that, although the model’s R-squared accuracy is increasing as the fit becomes more complex(R-square is maximum for degree-6), but the goodness of that fit is going down with increasing order of models. This is because the number of statistically significant coefficients compared to the total number\n",
    " of coefficients in a model tends to go down with incresing model orders. We should neither select a model with maximum R-Squared value nor the one with maximum Goodness. Selecting model with maximum R-Squared value will give very accurate model but it will be very complex model with many insignificant coefficients. On the other hand, we should also not select the model with maximum goodness of fit, because it will reduce the complexity but will make model inaccurate.\n",
    " \n",
    " We can see where the trade-off is best between model accuracy and goodness of fit.This is why we are using Rank as indicator of best model.\n",
    " The model order with the highest rank in this case is a Degree-2 fit that has all of its coefficients that are statistically valid and also decent R-squared value.\n",
    " Wechoose Optimal model to be the one that has the highest rank value. A model that has a lower R-squared and lower rank is underfit to the data. A model that has a higher R-squared and a lower rank is overfit to our data."
   ]
  }
 ],
 "metadata": {
  "kernelspec": {
   "display_name": "R",
   "language": "R",
   "name": "ir"
  },
  "language_info": {
   "codemirror_mode": "r",
   "file_extension": ".r",
   "mimetype": "text/x-r-source",
   "name": "R",
   "pygments_lexer": "r",
   "version": "4.5.0"
  }
 },
 "nbformat": 4,
 "nbformat_minor": 5
}
